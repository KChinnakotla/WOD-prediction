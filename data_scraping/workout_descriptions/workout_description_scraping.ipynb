{
 "cells": [
  {
   "cell_type": "markdown",
   "metadata": {},
   "source": [
    "# Scraping workout description from the website\n",
    "This notebook shows how to scrape and process a workout description from the website, and extract some useful features from it using the openAI API. \n",
    "## Demo using one workout"
   ]
  },
  {
   "cell_type": "code",
   "execution_count": 1,
   "metadata": {},
   "outputs": [],
   "source": [
    "import requests\n",
    "import json\n",
    "from bs4 import BeautifulSoup\n",
    "import sys\n",
    "import os\n",
    "\n",
    "sys.path.append('..')\n",
    "from utils import scrape_workout_description, clean_description\n"
   ]
  },
  {
   "cell_type": "code",
   "execution_count": 2,
   "metadata": {},
   "outputs": [],
   "source": [
    "# Add open AI API key in some parent folder and add to environment variable\n",
    "with open('../../../openai-api-key.txt', 'r') as f:\n",
    "    open_ai_api_key = f.read().strip()\n",
    "os.environ['OPENAI_API_KEY'] = open_ai_api_key"
   ]
  },
  {
   "cell_type": "code",
   "execution_count": 3,
   "metadata": {},
   "outputs": [
    {
     "name": "stdout",
     "output_type": "stream",
     "text": [
      "2017 1\n"
     ]
    }
   ],
   "source": [
    "# choose workout\n",
    "name = 17.1\n",
    "\n",
    "# get year and number\n",
    "year = 2000 + int(name)\n",
    "workout = round((name - int(name)) * 10)\n",
    "print(year, workout)\n"
   ]
  },
  {
   "cell_type": "code",
   "execution_count": 4,
   "metadata": {},
   "outputs": [
    {
     "name": "stdout",
     "output_type": "stream",
     "text": [
      "\n",
      "Workout 17.1\n",
      "For time:\n",
      "10 dumbbell snatches\n",
      "15 burpee box jump-overs\n",
      "20 dumbbell snatches\n",
      "15 burpee box jump-overs\n",
      "30 dumbbell snatches\n",
      "15 burpee box jump-overs\n",
      "40 dumbbell snatches\n",
      "15 burpee box jump-overs\n",
      "50 dumbbell snatches\n",
      "15 burpee box jump-overs\n",
      "Men use 50-lb. dumbbell and 24-in. box\n",
      "Time cap: 20 minutes\n",
      "\n"
     ]
    }
   ],
   "source": [
    "# scrape workout description from crossfit.com\n",
    "description = scrape_workout_description(year, workout)\n",
    "print(description)"
   ]
  },
  {
   "cell_type": "code",
   "execution_count": 5,
   "metadata": {},
   "outputs": [
    {
     "ename": "AttributeError",
     "evalue": "'function' object has no attribute 'replace'",
     "output_type": "error",
     "traceback": [
      "\u001b[0;31m---------------------------------------------------------------------------\u001b[0m",
      "\u001b[0;31mAttributeError\u001b[0m                            Traceback (most recent call last)",
      "Cell \u001b[0;32mIn[5], line 4\u001b[0m\n\u001b[1;32m      2\u001b[0m \u001b[38;5;28;01mif\u001b[39;00m description:\n\u001b[1;32m      3\u001b[0m     cleaned_description \u001b[38;5;241m=\u001b[39m clean_description(name, description)\n\u001b[0;32m----> 4\u001b[0m     cleaned_description_dic \u001b[38;5;241m=\u001b[39m \u001b[38;5;28meval\u001b[39m(\u001b[43mclean_description\u001b[49m\u001b[38;5;241;43m.\u001b[39;49m\u001b[43mreplace\u001b[49m(\u001b[38;5;124m'\u001b[39m\u001b[38;5;124mnull\u001b[39m\u001b[38;5;124m'\u001b[39m,\u001b[38;5;124m'\u001b[39m\u001b[38;5;124mNone\u001b[39m\u001b[38;5;124m'\u001b[39m))\n",
      "\u001b[0;31mAttributeError\u001b[0m: 'function' object has no attribute 'replace'"
     ]
    }
   ],
   "source": [
    "# clean description using openai\n",
    "if description:\n",
    "    cleaned_description = clean_description(name, description)\n",
    "    cleaned_description_dic = eval(cleaned_description.replace('null','None'))\n",
    "cleaned_description_dic"
   ]
  },
  {
   "cell_type": "markdown",
   "metadata": {},
   "source": [
    "## Loop through mutliple workouts\n",
    "Loop though multiple workouts and store details in \n",
    "`Data/workout_descriptions/open_parsed_descriptions.json` file. It may also be useful to store the raw (uncleaned descriptions) in a separate file.\n"
   ]
  },
  {
   "cell_type": "code",
   "execution_count": 13,
   "metadata": {},
   "outputs": [
    {
     "data": {
      "text/plain": [
       "dict_keys(['17.1'])"
      ]
     },
     "execution_count": 13,
     "metadata": {},
     "output_type": "execute_result"
    }
   ],
   "source": [
    "with open(\"../../Data/workout_descriptions/open_parsed_descriptions.json\", \"r\") as f:\n",
    "    open_parsed_descriptions = json.load(f)\n",
    "open_parsed_descriptions.keys()"
   ]
  },
  {
   "cell_type": "code",
   "execution_count": 21,
   "metadata": {},
   "outputs": [
    {
     "name": "stdout",
     "output_type": "stream",
     "text": [
      "2017 2\n",
      "Successfully parsed workout 2!\n",
      "2017 3\n",
      "Successfully parsed workout 3!\n",
      "2017 4\n",
      "Successfully parsed workout 4!\n",
      "2017 5\n",
      "Successfully parsed workout 5!\n"
     ]
    }
   ],
   "source": [
    "overwrite = False\n",
    "for name in [17.1,17.2,17.3,17.4,17.5]:\n",
    "    # prevent overwriting for the ones already saved\n",
    "    if (not overwrite) and str(name) in open_parsed_descriptions:\n",
    "        continue\n",
    "    \n",
    "    # get year and number\n",
    "    year = 2000 + int(name)\n",
    "    workout = round((name - int(name)) * 10)\n",
    "    print(year, workout)\n",
    "\n",
    "    # scrape workout description from crossfit.com\n",
    "    description = scrape_workout_description(year, workout)\n",
    "\n",
    "    # clean description using openai\n",
    "    if description:\n",
    "        cleaned_description = clean_description(name, description)\n",
    "        cleaned_description_json = json.loads(cleaned_description)\n",
    "        for key, value in cleaned_description_json.items():\n",
    "            cleaned_description_json[key] = value\n",
    "\n",
    "        print(f\"Successfully parsed workout {workout}!\")\n",
    "    else:\n",
    "        print(f\"Failed to extract workout {workout}!\")\n",
    "        \n",
    "    \n",
    "    \n"
   ]
  },
  {
   "cell_type": "code",
   "execution_count": 24,
   "metadata": {},
   "outputs": [
    {
     "data": {
      "text/plain": [
       "{'17.5': {'goal': 'for time',\n",
       "  'time_cap': None,\n",
       "  'total_reps': None,\n",
       "  'description': '10 rounds for time of: 9 thrusters (95 lb), 35 double-unders'}}"
      ]
     },
     "execution_count": 24,
     "metadata": {},
     "output_type": "execute_result"
    }
   ],
   "source": []
  },
  {
   "cell_type": "code",
   "execution_count": 23,
   "metadata": {},
   "outputs": [],
   "source": [
    "# save to file\n",
    "with open(\"../../Data/workout_descriptions/open_parsed_descriptions.json\", \"w\") as f:\n",
    "    json.dump(open_parsed_descriptions, f)"
   ]
  },
  {
   "cell_type": "markdown",
   "metadata": {},
   "source": []
  },
  {
   "cell_type": "markdown",
   "metadata": {},
   "source": []
  }
 ],
 "metadata": {
  "kernelspec": {
   "display_name": "wod_project",
   "language": "python",
   "name": "python3"
  },
  "language_info": {
   "codemirror_mode": {
    "name": "ipython",
    "version": 3
   },
   "file_extension": ".py",
   "mimetype": "text/x-python",
   "name": "python",
   "nbconvert_exporter": "python",
   "pygments_lexer": "ipython3",
   "version": "3.12.1"
  }
 },
 "nbformat": 4,
 "nbformat_minor": 2
}
