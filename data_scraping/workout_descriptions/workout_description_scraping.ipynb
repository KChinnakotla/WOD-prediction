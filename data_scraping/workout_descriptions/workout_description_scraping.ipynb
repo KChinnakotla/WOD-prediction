{
 "cells": [
  {
   "cell_type": "markdown",
   "metadata": {},
   "source": [
    "# Scraping workout description from the website\n",
    "This notebook shows how to scrape and process a workout description from the website, and extract some useful features from it using the openAI API. \n",
    "## Demo using one workout"
   ]
  },
  {
   "cell_type": "code",
   "execution_count": 4,
   "metadata": {},
   "outputs": [],
   "source": [
    "import requests\n",
    "import json\n",
    "from bs4 import BeautifulSoup\n",
    "import sys\n",
    "import os\n",
    "\n",
    "sys.path.append('..')\n",
    "from utils import scrape_workout_description, clean_description\n"
   ]
  },
  {
   "cell_type": "code",
   "execution_count": 21,
   "metadata": {},
   "outputs": [],
   "source": [
    "# Add open AI API key in some parent folder and add to environment variable\n",
    "with open('../../../openai-api-key.txt', 'r') as f:\n",
    "    open_ai_api_key = f.read().strip()\n",
    "os.environ['OPENAI_API_KEY'] = open_ai_api_key"
   ]
  },
  {
   "cell_type": "code",
   "execution_count": 13,
   "metadata": {},
   "outputs": [
    {
     "name": "stdout",
     "output_type": "stream",
     "text": [
      "2023 2\n"
     ]
    }
   ],
   "source": [
    "# choose workout\n",
    "name = 23.2\n",
    "\n",
    "# get year and number\n",
    "year = 2000 + int(name)\n",
    "workout = round((name - int(name)) * 10)\n",
    "print(year, workout)\n"
   ]
  },
  {
   "cell_type": "code",
   "execution_count": 14,
   "metadata": {},
   "outputs": [
    {
     "name": "stdout",
     "output_type": "stream",
     "text": [
      "\n",
      "23.2A:\n",
      "Complete as many reps as possible in 15 minutes of:\n",
      "\n",
      "5 burpee pull-ups\n",
      "10 shuttle runs (1 rep = 25 ft out/25 ft back)\n",
      "*Add 5 burpee pull-ups after each round.\n",
      "23.2B:\n",
      "Immediately following 23.2A, athletes will have 5 minutes to establish:\n",
      "1-rep-max thruster (from the floor)\n",
      "\n"
     ]
    }
   ],
   "source": [
    "# scrape workout description from crossfit.com\n",
    "description = scrape_workout_description(year, workout)\n",
    "print(description)"
   ]
  },
  {
   "cell_type": "code",
   "execution_count": 16,
   "metadata": {},
   "outputs": [],
   "source": [
    "# clean description using openai\n",
    "if description:\n",
    "    clean_description = clean_description(name, description)\n",
    "    clean_description = eval(clean_description)"
   ]
  },
  {
   "cell_type": "code",
   "execution_count": 19,
   "metadata": {},
   "outputs": [
    {
     "data": {
      "text/plain": [
       "{'23.2A': {'goal': 'AMRAP',\n",
       "  'time_cap': 15,\n",
       "  'description': '5 burpee pull-ups, 10 shuttle runs (1 rep = 25 ft out/25 ft back), Add 5 burpee pull-ups after each round.'},\n",
       " '23.2B': {'goal': 'load',\n",
       "  'time_cap': 5,\n",
       "  'description': '1-rep-max thruster (from the floor)'}}"
      ]
     },
     "execution_count": 19,
     "metadata": {},
     "output_type": "execute_result"
    }
   ],
   "source": []
  },
  {
   "cell_type": "markdown",
   "metadata": {},
   "source": [
    "## Loop through mutliple workouts\n",
    "TODO: Loop though multiple workouts and store details in \n",
    "`WOD-prediction/Data/descriptions.json` file. It may also be useful to store the raw (uncleaned descriptions) in a separate file.\n"
   ]
  },
  {
   "cell_type": "markdown",
   "metadata": {},
   "source": []
  }
 ],
 "metadata": {
  "kernelspec": {
   "display_name": "wod_project",
   "language": "python",
   "name": "python3"
  },
  "language_info": {
   "codemirror_mode": {
    "name": "ipython",
    "version": 3
   },
   "file_extension": ".py",
   "mimetype": "text/x-python",
   "name": "python",
   "nbconvert_exporter": "python",
   "pygments_lexer": "ipython3",
   "version": "3.12.1"
  }
 },
 "nbformat": 4,
 "nbformat_minor": 2
}
